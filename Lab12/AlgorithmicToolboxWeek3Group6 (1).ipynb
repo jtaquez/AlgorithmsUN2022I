{
  "nbformat": 4,
  "nbformat_minor": 0,
  "metadata": {
    "colab": {
      "name": "AlgorithmicToolboxWeek3Group6.ipynb",
      "provenance": []
    },
    "kernelspec": {
      "name": "python3",
      "display_name": "Python 3"
    },
    "language_info": {
      "name": "python"
    }
  },
  "cells": [
    {
      "cell_type": "markdown",
      "source": [
        "# 3.1 Money Change"
      ],
      "metadata": {
        "id": "aPBlEdoYFXyD"
      }
    },
    {
      "cell_type": "code",
      "execution_count": null,
      "metadata": {
        "id": "S9OMkHIuEa3u"
      },
      "outputs": [],
      "source": [
        "n = int(input())\n",
        "x = 0\n",
        "for i in [10, 5, 1]:\n",
        "    if n>=i:\n",
        "        q = n//i\n",
        "        x += q\n",
        "        n = n%i\n",
        "        if n==0:\n",
        "            print(x)\n",
        "            quit() "
      ]
    },
    {
      "cell_type": "markdown",
      "source": [
        "# 3.2 Maximum Value of  Loot "
      ],
      "metadata": {
        "id": "i1qwt8qFJe_h"
      }
    },
    {
      "cell_type": "code",
      "source": [
        "n, m = [int(i) for i in input().split()]\n",
        "lst = []\n",
        "\n",
        "if m == 0:\n",
        "    print(0)\n",
        "    quit()\n",
        "\n",
        "for h in range(n):\n",
        "    v, word = [int(i) for i in input().split()]\n",
        "    if v == 0:\n",
        "        continue\n",
        "    lst.append((v, word))\n",
        "\n",
        "lst.sort(key = lambda x: x[0]/x[1], reverse = True)\n",
        "\n",
        "t = 0\n",
        "\n",
        "for v,w in lst:\n",
        "    if m==0:\n",
        "        print(t)\n",
        "        break\n",
        "    d = min(word, m)\n",
        "    t += d*v/word\n",
        "    m -= d\n",
        "\n",
        "print(t)\n",
        "\n",
        "print(total_value)"
      ],
      "metadata": {
        "id": "mGsAjBsoJpaj"
      },
      "execution_count": null,
      "outputs": []
    },
    {
      "cell_type": "markdown",
      "source": [
        "# 3.3 Car Refueling"
      ],
      "metadata": {
        "id": "1BLmmriSKjB1"
      }
    },
    {
      "cell_type": "code",
      "source": [
        "d = int(input())\n",
        "m = int(input())\n",
        "n = int(input())\n",
        "\n",
        "stops = list(map(int, input().split()))\n",
        "\n",
        "stops.append(d)\n",
        "no_stops = 0\n",
        "ld = d\n",
        "cd = 0\n",
        "for i in range(len(stops) - 1):\n",
        "    if (ld == 0):\n",
        "        break\n",
        "    elif ((stops[i + 1] - stops[i]) > m):\n",
        "        no_stops = -1\n",
        "        break\n",
        "    elif ((cd + m) >= stops[i] and (cd + m) < stops[i + 1]):\n",
        "        cd = stops[i]\n",
        "        ld = d - stops[i]\n",
        "        no_stops +=  1\n",
        "\n",
        "print(no_stops)"
      ],
      "metadata": {
        "id": "vwYj3scbL7bO"
      },
      "execution_count": null,
      "outputs": []
    },
    {
      "cell_type": "markdown",
      "source": [
        "# 3.4 Maximum Advertesiment Revenue"
      ],
      "metadata": {
        "id": "2KuYiIZLNXg7"
      }
    },
    {
      "cell_type": "code",
      "source": [
        "n = int(input())\n",
        "a = [int(i) for i in input().split()]\n",
        "b = [int(i) for i in input().split()]\n",
        "a.sort()\n",
        "b.sort()\n",
        "ans = sum([a[i]*b[i] for i in range(n)])\n",
        "print(ans)"
      ],
      "metadata": {
        "id": "oO4WUAHjNa47"
      },
      "execution_count": null,
      "outputs": []
    },
    {
      "cell_type": "markdown",
      "source": [
        "#3.5 Collecting Signatures"
      ],
      "metadata": {
        "id": "A_zD_m9DOh9j"
      }
    },
    {
      "cell_type": "code",
      "source": [
        "n = int(input())\n",
        "lst = []\n",
        "\n",
        "for _ in range(n):\n",
        "    a, b = [int(i) for i in input().split()]\n",
        "    lst.append((a,b))\n",
        "\n",
        "lst.sort(key = lambda x: x[1])\n",
        "\n",
        "index = 0\n",
        "coordinates = []\n",
        "\n",
        "while index < n:\n",
        "    curr = lst[index]\n",
        "    while index < n-1 and curr[1]>=lst[index+1][0]:\n",
        "        index += 1\n",
        "    coordinates.append(curr[1])\n",
        "    index += 1\n",
        "print(len(coordinates))\n",
        "print(' '.join([str(i) for i in coordinates]))"
      ],
      "metadata": {
        "id": "-gWZpyeUOxzM"
      },
      "execution_count": null,
      "outputs": []
    },
    {
      "cell_type": "markdown",
      "source": [
        "# 3.6 Maximum Number of Prizes (Different Summands)"
      ],
      "metadata": {
        "id": "kE-EJLcoO7HN"
      }
    },
    {
      "cell_type": "code",
      "source": [
        "n = int(input())\n",
        "\n",
        "W = n\n",
        "p = []\n",
        "\n",
        "if n == 1:\n",
        "    print(1)\n",
        "    print(1)\n",
        "    quit()\n",
        "\n",
        "for i in range(1, n):\n",
        "    if W>2*i:\n",
        "        p.append(i)\n",
        "        W = W - i\n",
        "    else:\n",
        "        p.append(W)\n",
        "        break\n",
        "\n",
        "print(len(p))\n",
        "print(' '.join([str(i) for i in p]))"
      ],
      "metadata": {
        "id": "O-75FhmRO_Yz"
      },
      "execution_count": null,
      "outputs": []
    },
    {
      "cell_type": "markdown",
      "source": [
        "# 3. 7 Maximum Salary "
      ],
      "metadata": {
        "id": "b9JtK826PDW7"
      }
    },
    {
      "cell_type": "code",
      "source": [
        "n = int(input())\n",
        "l = list(map(int, input().split()))\n",
        "\n",
        "sal = []\n",
        "\n",
        "while l!=[]:\n",
        "    maxd = 0\n",
        "    for i in l:\n",
        "        if int(str(i)+str(maxd))>=int(str(maxd)+str(i)):\n",
        "            maxd = i\n",
        "    sal.append(maxd)\n",
        "    l.remove(maxd)\n",
        "\n",
        "print(''.join([str(i) for i in sal]))\n"
      ],
      "metadata": {
        "id": "_Kj1v6TGPUPh"
      },
      "execution_count": null,
      "outputs": []
    }
  ]
}